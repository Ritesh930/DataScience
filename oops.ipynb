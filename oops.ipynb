{
 "cells": [
  {
   "cell_type": "markdown",
   "id": "fa5c1dd9",
   "metadata": {},
   "source": [
    "#OOPS"
   ]
  },
  {
   "cell_type": "code",
   "execution_count": null,
   "id": "cea57587",
   "metadata": {},
   "outputs": [],
   "source": [
    "# class-----blueprint of an object\n",
    "# object---- instance of class\n",
    "# method\n",
    "\n",
    "# inheritance ---single,multiple,multilevel,hyerarchical,hybrid\n",
    "# polymorphism --\n",
    "# encapsulation"
   ]
  },
  {
   "cell_type": "code",
   "execution_count": null,
   "id": "b07d2e0c",
   "metadata": {},
   "outputs": [
    {
     "name": "stdout",
     "output_type": "stream",
     "text": [
      "30\n",
      "('abc', 'xyz')\n"
     ]
    }
   ],
   "source": [
    "class car:\n",
    "    num1=10\n",
    "    num2=20\n",
    "    name= \"abc\"\n",
    "    model=\"xyz\"\n",
    "    def add(self):             #function defined in class is known as method\n",
    "        return self.num1 + self.num2\n",
    "    def display(self):\n",
    "        return self.name , self.model\n",
    "#obj==object\n",
    "obj=car()\n",
    "print(obj.add())\n",
    "print(obj.display())"
   ]
  },
  {
   "cell_type": "code",
   "execution_count": null,
   "id": "7fa5fa63",
   "metadata": {},
   "outputs": [
    {
     "name": "stdout",
     "output_type": "stream",
     "text": [
      "('lion', 23)\n"
     ]
    }
   ],
   "source": [
    "#init---constructor---initialoize the variable\n",
    "class animal:\n",
    "    def __init__(self):      #taking input from the user into class\n",
    "        self.name=(input(\"Enter the name of animal : \"))\n",
    "        self.age=int(input(\"Enter the age of animal: \"))\n",
    "    def display(self):\n",
    "        return self.name,self.age\n",
    "obj=animal()\n",
    "print(obj.display())\n"
   ]
  },
  {
   "cell_type": "code",
   "execution_count": null,
   "id": "214f2670",
   "metadata": {},
   "outputs": [
    {
     "data": {
      "text/plain": [
       "('lion', 10)"
      ]
     },
     "execution_count": 5,
     "metadata": {},
     "output_type": "execute_result"
    }
   ],
   "source": [
    "class animal:\n",
    "    def __init__(self,name,age):\n",
    "        self.name=name\n",
    "        self.age=age      #giving input using constructor\n",
    "    def display(self):\n",
    "        return self.name,self.age   \n",
    "obj=animal(\"lion\",10)    \n",
    "obj.display()"
   ]
  },
  {
   "cell_type": "code",
   "execution_count": null,
   "id": "7dc4e41f",
   "metadata": {},
   "outputs": [
    {
     "name": "stdout",
     "output_type": "stream",
     "text": [
      "car\n",
      "bike\n"
     ]
    }
   ],
   "source": [
    "#  INHERITANCE-- One class can inherit the properties and methods of another class.\n",
    "#single inheritance---one parent and one child class.\n",
    "class car:\n",
    "    def display(self):\n",
    "        return \"car\"\n",
    "\n",
    "# bike inherits from car\n",
    "class bike(car):\n",
    "    def show(self):\n",
    "        return \"bike\"\n",
    "\n",
    "obj = bike()\n",
    "print(obj.display())    #single inheritance\n",
    "print(obj.show())"
   ]
  },
  {
   "cell_type": "code",
   "execution_count": null,
   "id": "58260473",
   "metadata": {},
   "outputs": [
    {
     "data": {
      "text/plain": [
       "('abc', 20000)"
      ]
     },
     "execution_count": 17,
     "metadata": {},
     "output_type": "execute_result"
    }
   ],
   "source": [
    "class person:\n",
    "    def __init__(self,name):\n",
    "        self.name=name\n",
    "\n",
    "    def show(self):\n",
    "        return self.name ,self.salary  \n",
    "\n",
    "class employee(person):\n",
    "    def __init__(self,name,salary):\n",
    "        super().__init__(name)\n",
    "        self.salary=salary        #multiple inheritance\n",
    "\n",
    "obj=employee(\"abc\",20000)\n",
    "obj.show()\n",
    "    \n"
   ]
  },
  {
   "cell_type": "code",
   "execution_count": null,
   "id": "495800ae",
   "metadata": {},
   "outputs": [
    {
     "name": "stdout",
     "output_type": "stream",
     "text": [
      "('abc', 20000, 'engineer')\n"
     ]
    }
   ],
   "source": [
    "class person:\n",
    "    def __init__(self, name):\n",
    "        self.name = name\n",
    "\n",
    "    def show(self):\n",
    "        return self.name, self.salary, self.job\n",
    "\n",
    "class employee(person):\n",
    "    def __init__(self, name, salary):\n",
    "        super().__init__(name)\n",
    "        self.salary = salary\n",
    "\n",
    "class job:\n",
    "    def __init__(self, job):\n",
    "        self.job = job\n",
    "\n",
    "class employeepersonjob(employee, job):\n",
    "    def __init__(self, name, salary, job):\n",
    "        employee.__init__(self, name, salary)\n",
    "        job.__init__(self, job)\n",
    "\n",
    "obj = employeepersonjob(\"abc\", 20000, \"engineer\")\n",
    "print(obj.show())\n",
    "           \n",
    "        "
   ]
  },
  {
   "cell_type": "code",
   "execution_count": 28,
   "id": "072c15ac",
   "metadata": {},
   "outputs": [
    {
     "name": "stdout",
     "output_type": "stream",
     "text": [
      "Grandfather's house\n",
      "Father's car\n",
      "Son's bike\n"
     ]
    }
   ],
   "source": [
    "#multilevel inheritance\n",
    "# Base class\n",
    "class Grandfather:\n",
    "    def house(self):\n",
    "        print(\"Grandfather's house\")\n",
    "\n",
    "# Derived class from Grandfather\n",
    "class Father(Grandfather):\n",
    "    def car(self):\n",
    "        print(\"Father's car\")\n",
    "\n",
    "# Derived class from Father\n",
    "class Son(Father):\n",
    "    def bike(self):\n",
    "        print(\"Son's bike\")\n",
    "\n",
    "# Creating object of Son\n",
    "s = Son()\n",
    "s.house()   # Inherited from Grandfather\n",
    "s.car()     # Inherited from Father\n",
    "s.bike()    # Defined in Son\n"
   ]
  },
  {
   "cell_type": "code",
   "execution_count": null,
   "id": "1ed4ace1",
   "metadata": {},
   "outputs": [
    {
     "name": "stdout",
     "output_type": "stream",
     "text": [
      "meoww\n",
      "bark\n"
     ]
    }
   ],
   "source": [
    "# polymorphism--\n",
    "class cat:\n",
    "    def sound(self):\n",
    "        return\"meoww\"\n",
    "class dog:\n",
    "    def sound(self):\n",
    "        return\"bark\"\n",
    "    \n",
    "def makesound(animal):\n",
    "    return animal.sound() \n",
    "\n",
    "    \n",
    "obj1=cat()\n",
    "obj2=dog()\n",
    "print(makesound(obj1))\n",
    "print(makesound(obj2))\n",
    "  \n"
   ]
  },
  {
   "cell_type": "code",
   "execution_count": 32,
   "id": "05beb6a7",
   "metadata": {},
   "outputs": [
    {
     "name": "stdout",
     "output_type": "stream",
     "text": [
      "Area: 20\n",
      "Area: 28.259999999999998\n",
      "Area: 24.0\n"
     ]
    }
   ],
   "source": [
    "class Shape:\n",
    "    def area(self):\n",
    "        pass  # base method\n",
    "\n",
    "class Rectangle(Shape):\n",
    "    def __init__(self, length, width):\n",
    "        self.length = length\n",
    "        self.width = width\n",
    "    def area(self):\n",
    "        return self.length * self.width\n",
    "\n",
    "class Circle(Shape):\n",
    "    def __init__(self, radius):\n",
    "        self.radius = radius\n",
    "    def area(self):\n",
    "        return 3.14 * self.radius * self.radius\n",
    "\n",
    "class Triangle(Shape):\n",
    "    def __init__(self, base, height):\n",
    "        self.base = base\n",
    "        self.height = height\n",
    "    def area(self):\n",
    "        return 0.5 * self.base * self.height\n",
    "\n",
    "# Polymorphism in action\n",
    "shapes = [\n",
    "    Rectangle(4, 5),\n",
    "    Circle(3),\n",
    "    Triangle(6, 8)\n",
    "]\n",
    "\n",
    "for shape in shapes:\n",
    "    print(\"Area:\", shape.area())\n",
    "\n",
    "    "
   ]
  },
  {
   "cell_type": "code",
   "execution_count": null,
   "id": "c47cafd7",
   "metadata": {},
   "outputs": [
    {
     "name": "stdout",
     "output_type": "stream",
     "text": [
      "Circle Area: 78.5\n",
      "Rectangle Area: 24\n",
      "Triangle Area: 10.5\n"
     ]
    }
   ],
   "source": [
    "\n",
    "class Shape:\n",
    "    def area(self):\n",
    "        return 0\n",
    "\n",
    "class Circle(Shape):\n",
    "    def __init__(self, radius):  #circle\n",
    "       # radius=int(input(\"Enter the radius of circle:\"))\n",
    "        self.radius = radius\n",
    "\n",
    "    def area(self):\n",
    "        return 3.14 * self.radius * self.radius\n",
    "\n",
    "class Rectangle(Shape):\n",
    "    def __init__(self, length, width):\n",
    "        self.length = length               #rectangle\n",
    "        self.width = width\n",
    "\n",
    "    def area(self):\n",
    "        return self.length * self.width\n",
    "\n",
    "\n",
    "class Triangle(Shape):\n",
    "    def __init__(self, base, height):   #triangle\n",
    "        self.base = base\n",
    "        self.height = height\n",
    "\n",
    "    def area(self):\n",
    "        return 0.5 * self.base * self.height\n",
    "\n",
    "shapes = [ Circle(5),Rectangle(4, 6),Triangle(3, 7)]\n",
    "\n",
    "for shape in shapes:\n",
    "    print(f\"{shape.__class__.__name__} Area: {shape.area()}\")\n"
   ]
  },
  {
   "cell_type": "code",
   "execution_count": 38,
   "id": "48a62021",
   "metadata": {},
   "outputs": [
    {
     "name": "stdout",
     "output_type": "stream",
     "text": [
      "Circle Area: 78.5\n",
      "Rectangle Area: 24.0\n",
      "Triangle Area: 10.5\n"
     ]
    }
   ],
   "source": [
    "class Shape:\n",
    "    def area(self):\n",
    "        pass\n",
    "\n",
    "class Circle(Shape):\n",
    "    def __init__(self, radius):\n",
    "        self.radius = radius\n",
    "    def area(self):\n",
    "        return 3.14 * self.radius ** 2\n",
    "\n",
    "class Rectangle(Shape):\n",
    "    def __init__(self, length, width):\n",
    "        self.length = length\n",
    "        self.width = width\n",
    "    def area(self):\n",
    "        return self.length * self.width\n",
    "\n",
    "class Triangle(Shape):\n",
    "    def __init__(self, base, height):\n",
    "        self.base = base\n",
    "        self.height = height\n",
    "    def area(self):\n",
    "        return 0.5 * self.base * self.height\n",
    "\n",
    "shapes = [\n",
    "    Circle(float(input(\"Enter radius of circle: \"))),\n",
    "    Rectangle(float(input(\"Enter length of rectangle: \")), float(input(\"Enter width of rectangle: \"))),\n",
    "    Triangle(float(input(\"Enter base of triangle: \")), float(input(\"Enter height of triangle: \")))\n",
    "]\n",
    "\n",
    "for shape in shapes:\n",
    "    print(f\"{shape.__class__.__name__} Area: {shape.area()}\")"
   ]
  },
  {
   "cell_type": "code",
   "execution_count": null,
   "id": "7d198a01",
   "metadata": {},
   "outputs": [
    {
     "data": {
      "text/plain": [
       "50"
      ]
     },
     "execution_count": 46,
     "metadata": {},
     "output_type": "execute_result"
    }
   ],
   "source": [
    "## encapsulation\n",
    "class student:\n",
    "    def __init__(self,name,marks):\n",
    "        self.name=name\n",
    "        self.__marks=marks\n",
    "\n",
    "    def getmarks(self):\n",
    "        return self.__marks\n",
    "    \n",
    "    def setmarks(self, marks):\n",
    "        if 0 <= marks <= 100:\n",
    "            self.__marks = marks\n",
    "        else:\n",
    "            print(\"Invalid marks\")\n",
    "s=student(\"abc\",50)            \n",
    "s._student__marks     #name mangling"
   ]
  }
 ],
 "metadata": {
  "kernelspec": {
   "display_name": "Python 3",
   "language": "python",
   "name": "python3"
  },
  "language_info": {
   "codemirror_mode": {
    "name": "ipython",
    "version": 3
   },
   "file_extension": ".py",
   "mimetype": "text/x-python",
   "name": "python",
   "nbconvert_exporter": "python",
   "pygments_lexer": "ipython3",
   "version": "3.13.1"
  }
 },
 "nbformat": 4,
 "nbformat_minor": 5
}
