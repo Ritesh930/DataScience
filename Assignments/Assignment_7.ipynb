{
 "cells": [
  {
   "cell_type": "markdown",
   "id": "baf205a9",
   "metadata": {},
   "source": [
    "# Assignment 7: NumPy"
   ]
  },
  {
   "cell_type": "markdown",
   "id": "b659eef9",
   "metadata": {},
   "source": [
    "## Q1 NumPy Basics"
   ]
  },
  {
   "cell_type": "markdown",
   "id": "bd64c91c",
   "metadata": {},
   "source": [
    "\n",
    "**What is NumPy and its advantages over regular Python lists?**  \n",
    "NumPy is a powerful Python library used for numerical and scientific computing. It provides support for arrays, matrices, and a large number of mathematical functions.\n",
    "\n",
    "**Advantages over Python lists:**  \n",
    "- Faster execution due to optimized C-based backend  \n",
    "- Less memory consumption  \n",
    "- Convenient array slicing and broadcasting  \n",
    "- Built-in mathematical, logical, and statistical operations\n"
   ]
  },
  {
   "cell_type": "code",
   "execution_count": 8,
   "id": "182f4124",
   "metadata": {},
   "outputs": [
    {
     "name": "stdout",
     "output_type": "stream",
     "text": [
      "Original: [1 2 3 4 5]\n",
      "Added: [ 6  7  8  9 10]\n",
      "Multiplied: [ 2  4  6  8 10]\n"
     ]
    }
   ],
   "source": [
    "\n",
    "import numpy as np\n",
    "\n",
    "# Creating a NumPy array from a list\n",
    "numbers = [1, 2, 3, 4, 5]\n",
    "np_array = np.array(numbers)\n",
    "\n",
    "# Performing basic arithmetic operations\n",
    "added_array = np_array + 5\n",
    "multiplied_array = np_array * 2\n",
    "\n",
    "print(\"Original:\", np_array)\n",
    "print(\"Added:\", added_array)\n",
    "print(\"Multiplied:\", multiplied_array)\n"
   ]
  },
  {
   "cell_type": "markdown",
   "id": "f963211a",
   "metadata": {},
   "source": [
    "## Q2 Special Arrays"
   ]
  },
  {
   "cell_type": "markdown",
   "id": "89f9f95e",
   "metadata": {},
   "source": [
    "\n",
    "**Creating different types of arrays in NumPy:**  \n",
    "- `np.zeros(shape)` creates an array filled with zeros.  \n",
    "- `np.ones(shape)` creates an array filled with ones.  \n",
    "- `np.random.randint(low, high, size)` creates an array with random integers in a specified range.\n"
   ]
  },
  {
   "cell_type": "code",
   "execution_count": 9,
   "id": "98d99dbd",
   "metadata": {},
   "outputs": [
    {
     "name": "stdout",
     "output_type": "stream",
     "text": [
      "Zeros:\n",
      " [[0. 0. 0.]\n",
      " [0. 0. 0.]\n",
      " [0. 0. 0.]]\n",
      "Ones:\n",
      " [[1. 1. 1.]\n",
      " [1. 1. 1.]\n",
      " [1. 1. 1.]]\n",
      "Random Integers:\n",
      " [[ 7  2  4]\n",
      " [ 2  2 10]\n",
      " [ 7  3  5]]\n"
     ]
    }
   ],
   "source": [
    "\n",
    "import numpy as np\n",
    "\n",
    "zeros_array = np.zeros((3, 3))\n",
    "ones_array = np.ones((3, 3))\n",
    "random_array = np.random.randint(1, 11, (3, 3))\n",
    "\n",
    "print(\"Zeros:\\n\", zeros_array)\n",
    "print(\"Ones:\\n\", ones_array)\n",
    "print(\"Random Integers:\\n\", random_array)\n"
   ]
  },
  {
   "cell_type": "markdown",
   "id": "436ec4a0",
   "metadata": {},
   "source": [
    "## Q3 Indexing Slicing"
   ]
  },
  {
   "cell_type": "markdown",
   "id": "8e38b420",
   "metadata": {},
   "source": [
    "\n",
    "**Array indexing and slicing in NumPy:**  \n",
    "- Similar to lists, but more powerful with multi-dimensional support.  \n",
    "- You can slice 2D arrays using syntax like `array[row_start:row_end, col_start:col_end]`.  \n",
    "- Faster and more efficient than standard Python list slicing.\n"
   ]
  },
  {
   "cell_type": "code",
   "execution_count": 10,
   "id": "396c741b",
   "metadata": {},
   "outputs": [
    {
     "name": "stdout",
     "output_type": "stream",
     "text": [
      "Original 4x4 Array:\n",
      " [[ 0  1  2  3]\n",
      " [ 4  5  6  7]\n",
      " [ 8  9 10 11]\n",
      " [12 13 14 15]]\n",
      "2x2 Subarray:\n",
      " [[ 5  6]\n",
      " [ 9 10]]\n"
     ]
    }
   ],
   "source": [
    "\n",
    "import numpy as np\n",
    "\n",
    "array_2d = np.arange(16).reshape((4, 4))\n",
    "subarray = array_2d[1:3, 1:3]\n",
    "\n",
    "print(\"Original 4x4 Array:\\n\", array_2d)\n",
    "print(\"2x2 Subarray:\\n\", subarray)\n"
   ]
  },
  {
   "cell_type": "markdown",
   "id": "2cd32676",
   "metadata": {},
   "source": [
    "## Q4 Statistics"
   ]
  },
  {
   "cell_type": "markdown",
   "id": "4264b3a2",
   "metadata": {},
   "source": [
    "\n",
    "**Common statistical functions in NumPy:**  \n",
    "- `np.mean()` computes the average of array elements.  \n",
    "- `np.median()` computes the middle value.  \n",
    "- `np.std()` computes the standard deviation.  \n",
    "These help in analyzing numerical data efficiently.\n"
   ]
  },
  {
   "cell_type": "code",
   "execution_count": 11,
   "id": "43baee95",
   "metadata": {},
   "outputs": [
    {
     "name": "stdout",
     "output_type": "stream",
     "text": [
      "Mean: 0.4676611423797483\n",
      "Median: 0.4373226733881726\n",
      "Standard Deviation: 0.28725418709994044\n"
     ]
    }
   ],
   "source": [
    "\n",
    "import numpy as np\n",
    "\n",
    "data = np.random.rand(100)\n",
    "mean = np.mean(data)\n",
    "median = np.median(data)\n",
    "std_dev = np.std(data)\n",
    "\n",
    "print(\"Mean:\", mean)\n",
    "print(\"Median:\", median)\n",
    "print(\"Standard Deviation:\", std_dev)\n"
   ]
  },
  {
   "cell_type": "markdown",
   "id": "a660b54f",
   "metadata": {},
   "source": [
    "## Q5 Operations"
   ]
  },
  {
   "cell_type": "markdown",
   "id": "512e696e",
   "metadata": {},
   "source": [
    "\n",
    "**Element-wise and matrix operations in NumPy:**  \n",
    "- Element-wise operations: Operations done on each corresponding element (e.g., `a + b`).  \n",
    "- Matrix operations: Use functions like `np.dot()` or `@` for matrix multiplication.\n"
   ]
  },
  {
   "cell_type": "code",
   "execution_count": 12,
   "id": "10efc227",
   "metadata": {},
   "outputs": [
    {
     "name": "stdout",
     "output_type": "stream",
     "text": [
      "Addition:\n",
      " [[ 6  8]\n",
      " [10 12]]\n",
      "Subtraction:\n",
      " [[-4 -4]\n",
      " [-4 -4]]\n",
      "Matrix Multiplication:\n",
      " [[19 22]\n",
      " [43 50]]\n"
     ]
    }
   ],
   "source": [
    "\n",
    "import numpy as np\n",
    "\n",
    "a = np.array([[1, 2], [3, 4]])\n",
    "b = np.array([[5, 6], [7, 8]])\n",
    "\n",
    "elementwise_add = a + b\n",
    "elementwise_sub = a - b\n",
    "matrix_mul = np.dot(a, b)\n",
    "\n",
    "print(\"Addition:\\n\", elementwise_add)\n",
    "print(\"Subtraction:\\n\", elementwise_sub)\n",
    "print(\"Matrix Multiplication:\\n\", matrix_mul)\n"
   ]
  },
  {
   "cell_type": "markdown",
   "id": "4deaf56c",
   "metadata": {},
   "source": [
    "## Q6 Broadcasting"
   ]
  },
  {
   "cell_type": "markdown",
   "id": "d3fbb204",
   "metadata": {},
   "source": [
    "\n",
    "**Broadcasting in NumPy:**  \n",
    "Broadcasting allows NumPy to perform operations on arrays of different shapes without explicit replication.  \n",
    "E.g., adding a 1D array to a 2D array row-wise.\n"
   ]
  },
  {
   "cell_type": "code",
   "execution_count": 13,
   "id": "4f85f590",
   "metadata": {},
   "outputs": [
    {
     "name": "stdout",
     "output_type": "stream",
     "text": [
      "Broadcasted Result:\n",
      " [[11 22 33]\n",
      " [14 25 36]]\n"
     ]
    }
   ],
   "source": [
    "\n",
    "import numpy as np\n",
    "\n",
    "array_2d = np.array([[1, 2, 3], [4, 5, 6]])\n",
    "array_1d = np.array([10, 20, 30])\n",
    "\n",
    "broadcasted_sum = array_2d + array_1d\n",
    "\n",
    "print(\"Broadcasted Result:\\n\", broadcasted_sum)\n"
   ]
  },
  {
   "cell_type": "markdown",
   "id": "3874cc92",
   "metadata": {},
   "source": [
    "## Q7 Handle NaN"
   ]
  },
  {
   "cell_type": "markdown",
   "id": "55d63616",
   "metadata": {},
   "source": [
    "\n",
    "**Handling NaN (Not a Number) values in NumPy:**  \n",
    "- `np.isnan(array)` returns boolean array for NaNs.  \n",
    "- `np.nanmean(array)` computes mean ignoring NaNs.  \n",
    "- `np.where(condition, x, y)` can be used to replace NaNs.\n"
   ]
  },
  {
   "cell_type": "code",
   "execution_count": 14,
   "id": "5b736854",
   "metadata": {},
   "outputs": [
    {
     "name": "stdout",
     "output_type": "stream",
     "text": [
      "Original: [ 1.  2. nan  4.  5. nan]\n",
      "Mean: 3.0\n",
      "Filled: [1. 2. 3. 4. 5. 3.]\n"
     ]
    }
   ],
   "source": [
    "\n",
    "import numpy as np\n",
    "\n",
    "array_with_nan = np.array([1, 2, np.nan, 4, 5, np.nan])\n",
    "mean_value = np.nanmean(array_with_nan)\n",
    "filled_array = np.where(np.isnan(array_with_nan), mean_value, array_with_nan)\n",
    "\n",
    "print(\"Original:\", array_with_nan)\n",
    "print(\"Mean:\", mean_value)\n",
    "print(\"Filled:\", filled_array)\n"
   ]
  },
  {
   "cell_type": "markdown",
   "id": "fcc0208a",
   "metadata": {},
   "source": [
    "## Q8 Reshape Flatten"
   ]
  },
  {
   "cell_type": "markdown",
   "id": "9c1111bf",
   "metadata": {},
   "source": [
    "\n",
    "**reshape() and flatten():**  \n",
    "- `reshape()` changes the shape of an array without changing its data.  \n",
    "- `flatten()` converts a multi-dimensional array into a 1D array.\n"
   ]
  },
  {
   "cell_type": "code",
   "execution_count": 15,
   "id": "413f1fbf",
   "metadata": {},
   "outputs": [
    {
     "name": "stdout",
     "output_type": "stream",
     "text": [
      "Original: [ 0  1  2  3  4  5  6  7  8  9 10 11]\n",
      "Reshaped: [[ 0  1  2  3]\n",
      " [ 4  5  6  7]\n",
      " [ 8  9 10 11]]\n",
      "Flattened: [ 0  1  2  3  4  5  6  7  8  9 10 11]\n"
     ]
    }
   ],
   "source": [
    "\n",
    "import numpy as np\n",
    "\n",
    "original_array = np.arange(12)\n",
    "reshaped_array = original_array.reshape((3, 4))\n",
    "flattened_array = reshaped_array.flatten()\n",
    "\n",
    "print(\"Original:\", original_array)\n",
    "print(\"Reshaped:\", reshaped_array)\n",
    "print(\"Flattened:\", flattened_array)\n"
   ]
  },
  {
   "cell_type": "markdown",
   "id": "02104643",
   "metadata": {},
   "source": [
    "## Q9 Linear Algebra"
   ]
  },
  {
   "cell_type": "markdown",
   "id": "081899b1",
   "metadata": {},
   "source": [
    "\n",
    "**`numpy.linalg` for linear algebra:**  \n",
    "- `np.linalg.inv()` computes the inverse of a matrix.  \n",
    "- `np.linalg.eig()` computes eigenvalues and eigenvectors.  \n",
    "Used in systems of equations, ML, and more.\n"
   ]
  },
  {
   "cell_type": "code",
   "execution_count": 16,
   "id": "5f044580",
   "metadata": {},
   "outputs": [
    {
     "name": "stdout",
     "output_type": "stream",
     "text": [
      "Matrix: [[4 7]\n",
      " [2 6]]\n",
      "Inverse: [[ 0.6 -0.7]\n",
      " [-0.2  0.4]]\n",
      "Eigenvalues: [1.12701665 8.87298335]\n",
      "Eigenvectors: [[-0.92511345 -0.82071729]\n",
      " [ 0.37969079 -0.57133452]]\n"
     ]
    }
   ],
   "source": [
    "\n",
    "import numpy as np\n",
    "\n",
    "matrix = np.array([[4, 7], [2, 6]])\n",
    "inverse_matrix = np.linalg.inv(matrix)\n",
    "eigenvalues, eigenvectors = np.linalg.eig(matrix)\n",
    "\n",
    "print(\"Matrix:\", matrix)\n",
    "print(\"Inverse:\", inverse_matrix)\n",
    "print(\"Eigenvalues:\", eigenvalues)\n",
    "print(\"Eigenvectors:\", eigenvectors)\n"
   ]
  },
  {
   "cell_type": "markdown",
   "id": "4c01287c",
   "metadata": {},
   "source": [
    "## Q10 Save Load"
   ]
  },
  {
   "cell_type": "markdown",
   "id": "d909b22d",
   "metadata": {},
   "source": [
    "\n",
    "**Saving and loading NumPy arrays:**  \n",
    "- `np.save('filename.npy', array)` saves the array in binary `.npy` format.  \n",
    "- `np.load('filename.npy')` loads the saved array.  \n",
    "Efficient for data persistence.\n"
   ]
  },
  {
   "cell_type": "code",
   "execution_count": 17,
   "id": "19d0d45c",
   "metadata": {},
   "outputs": [
    {
     "name": "stdout",
     "output_type": "stream",
     "text": [
      "Loaded Array: [1 2 3 4 5]\n"
     ]
    }
   ],
   "source": [
    "\n",
    "import numpy as np\n",
    "\n",
    "array_to_save = np.array([1, 2, 3, 4, 5])\n",
    "np.save('saved_array.npy', array_to_save)\n",
    "\n",
    "loaded_array = np.load('saved_array.npy')\n",
    "print(\"Loaded Array:\", loaded_array)\n"
   ]
  }
 ],
 "metadata": {
  "kernelspec": {
   "display_name": "Python 3",
   "language": "python",
   "name": "python3"
  },
  "language_info": {
   "codemirror_mode": {
    "name": "ipython",
    "version": 3
   },
   "file_extension": ".py",
   "mimetype": "text/x-python",
   "name": "python",
   "nbconvert_exporter": "python",
   "pygments_lexer": "ipython3",
   "version": "3.13.1"
  }
 },
 "nbformat": 4,
 "nbformat_minor": 5
}
