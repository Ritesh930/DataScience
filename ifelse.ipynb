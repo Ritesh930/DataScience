{
 "cells": [
  {
   "cell_type": "markdown",
   "id": "821f381f",
   "metadata": {},
   "source": [
    "Conditional statements"
   ]
  },
  {
   "cell_type": "code",
   "execution_count": null,
   "id": "29b9ef63",
   "metadata": {},
   "outputs": [],
   "source": [
    "#if,elif,else"
   ]
  },
  {
   "cell_type": "code",
   "execution_count": null,
   "id": "8ea0a57f",
   "metadata": {},
   "outputs": [
    {
     "name": "stdout",
     "output_type": "stream",
     "text": [
      "b is greater than a\n"
     ]
    }
   ],
   "source": [
    "a=10            #usage of if\n",
    "b=20\n",
    "if b>a:\n",
    "    print(\"b is greater than a\")"
   ]
  },
  {
   "cell_type": "code",
   "execution_count": null,
   "id": "3880eb7d",
   "metadata": {},
   "outputs": [
    {
     "name": "stdout",
     "output_type": "stream",
     "text": [
      "a is greater than b\n"
     ]
    }
   ],
   "source": [
    "a=40\n",
    "b=20             # Usage of else and if\n",
    "if b>a:\n",
    "    print(\"b is greater than a\")\n",
    "else:\n",
    "    print(\"a is greater than b\")    "
   ]
  },
  {
   "cell_type": "code",
   "execution_count": 14,
   "id": "bd31eda6",
   "metadata": {},
   "outputs": [
    {
     "name": "stdout",
     "output_type": "stream",
     "text": [
      "b is greater than a and a is less than c\n"
     ]
    }
   ],
   "source": [
    "a=10\n",
    "b=5\n",
    "c=30            \n",
    "if not(b>a and a>c):\n",
    "    print(\"b is greater than a and a is less than c\")\n",
    "else:\n",
    "    print(\"Hello!\")    "
   ]
  },
  {
   "cell_type": "code",
   "execution_count": null,
   "id": "222a3cb1",
   "metadata": {},
   "outputs": [
    {
     "name": "stdout",
     "output_type": "stream",
     "text": [
      "a is odd\n"
     ]
    }
   ],
   "source": [
    "a=11\n",
    "if a>0:                 #nested if else\n",
    "    if a%2==0:\n",
    "        print(\"a is even\")\n",
    "    else:\n",
    "        print(\"a is odd\")    \n",
    "else:\n",
    "    print(\"a is negative\")        "
   ]
  },
  {
   "cell_type": "code",
   "execution_count": null,
   "id": "a76626e0",
   "metadata": {},
   "outputs": [
    {
     "name": "stdout",
     "output_type": "stream",
     "text": [
      "10 20\n"
     ]
    }
   ],
   "source": [
    "a=int(input(\"Enter the value of a:\"))   #taking input from user\n",
    "b=int(input(\"Enter the value of b:\"))\n",
    "print(a,b)"
   ]
  },
  {
   "cell_type": "code",
   "execution_count": null,
   "id": "dc449025",
   "metadata": {},
   "outputs": [
    {
     "name": "stdout",
     "output_type": "stream",
     "text": [
      "the number is divisible by both 5 nad 7\n"
     ]
    }
   ],
   "source": [
    "a=int(input(\"Enter the value of a:\"))\n",
    "if(a%5==0 and a%7==0):                          #taking input and using if else\n",
    "    print(\"the number is divisible by both 5 nad 7\")\n",
    "else:\n",
    "    print(\"not divisible\")    "
   ]
  },
  {
   "cell_type": "code",
   "execution_count": 23,
   "id": "56357270",
   "metadata": {},
   "outputs": [
    {
     "name": "stdout",
     "output_type": "stream",
     "text": [
      "2025 is not a Leap Year.\n"
     ]
    }
   ],
   "source": [
    "year = int(input(\"Enter a year: \"))\n",
    "if (year % 4 == 0 and year % 100 != 0) or (year % 400 == 0):\n",
    "    print(f\"{year} is a Leap Year.\")\n",
    "else:\n",
    "    print(f\"{year} is not a Leap Year.\")\n"
   ]
  }
 ],
 "metadata": {
  "kernelspec": {
   "display_name": "Python 3",
   "language": "python",
   "name": "python3"
  },
  "language_info": {
   "codemirror_mode": {
    "name": "ipython",
    "version": 3
   },
   "file_extension": ".py",
   "mimetype": "text/x-python",
   "name": "python",
   "nbconvert_exporter": "python",
   "pygments_lexer": "ipython3",
   "version": "3.13.1"
  }
 },
 "nbformat": 4,
 "nbformat_minor": 5
}
